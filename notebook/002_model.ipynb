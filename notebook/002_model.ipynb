{
 "cells": [
  {
   "cell_type": "code",
   "execution_count": 1,
   "metadata": {},
   "outputs": [
    {
     "name": "stderr",
     "output_type": "stream",
     "text": [
      "/home/jupyter/workspace/mytabular/.venv/lib/python3.7/site-packages/pandas/compat/__init__.py:117: UserWarning: Could not import the lzma module. Your installed Python is incomplete. Attempting to use lzma compression will result in a RuntimeError.\n",
      "  warnings.warn(msg)\n"
     ]
    }
   ],
   "source": [
    "import os\n",
    "from pathlib import Path\n",
    "\n",
    "import numpy as np\n",
    "import pandas as pd\n",
    "from glob import glob\n",
    "from tqdm import tqdm\n",
    "\n",
    "import matplotlib.pyplot as plt\n",
    "import seaborn as sns"
   ]
  },
  {
   "cell_type": "code",
   "execution_count": 2,
   "metadata": {},
   "outputs": [],
   "source": [
    "datadir = Path('../data/atmacup5')\n",
    "train_df = pd.read_csv(datadir / 'train.csv')\n",
    "test_df = pd.read_csv(datadir / 'test.csv')\n",
    "fitting_df = pd.read_csv(datadir / 'fitting.csv')"
   ]
  },
  {
   "cell_type": "code",
   "execution_count": 12,
   "metadata": {},
   "outputs": [],
   "source": [
    "def read_fitting_data():\n",
    "    return pd.read_csv(datadir / 'fitting.csv')"
   ]
  },
  {
   "cell_type": "code",
   "execution_count": 3,
   "metadata": {},
   "outputs": [
    {
     "name": "stderr",
     "output_type": "stream",
     "text": [
      "14388it [00:22, 625.90it/s]\n"
     ]
    }
   ],
   "source": [
    "wave_data = {}\n",
    "\n",
    "files = (datadir / 'spectrum_raw').glob('*.dat')\n",
    "for p in tqdm(files):\n",
    "    _df = pd.read_csv(p, sep='\\t', header=None)\n",
    "    x = np.zeros(shape=(512,), dtype=np.float32)\n",
    "    x[:len(_df)] = _df.values[:, 1]\n",
    "    wave_data[os.path.basename(p)] = x"
   ]
  },
  {
   "cell_type": "code",
   "execution_count": 4,
   "metadata": {
    "scrolled": true
   },
   "outputs": [
    {
     "name": "stdout",
     "output_type": "stream",
     "text": [
      "spectrum_id          0\n",
      "spectrum_filename    0\n",
      "chip_id              0\n",
      "exc_wl               0\n",
      "layout_a             0\n",
      "layout_x             0\n",
      "layout_y             0\n",
      "pos_x                0\n",
      "target               0\n",
      "dtype: int64\n",
      "spectrum_id          0\n",
      "spectrum_filename    0\n",
      "chip_id              0\n",
      "exc_wl               0\n",
      "layout_a             0\n",
      "layout_x             0\n",
      "layout_y             0\n",
      "pos_x                0\n",
      "dtype: int64\n",
      "spectrum_id    0\n",
      "params0        0\n",
      "params1        0\n",
      "params2        0\n",
      "params3        0\n",
      "params4        0\n",
      "params5        0\n",
      "params6        0\n",
      "rms            0\n",
      "beta           0\n",
      "dtype: int64\n"
     ]
    }
   ],
   "source": [
    "print(train_df.isnull().sum())\n",
    "print(test_df.isnull().sum())\n",
    "print(fitting_df.isnull().sum())"
   ]
  },
  {
   "cell_type": "code",
   "execution_count": 5,
   "metadata": {},
   "outputs": [
    {
     "data": {
      "text/html": [
       "<div>\n",
       "<style scoped>\n",
       "    .dataframe tbody tr th:only-of-type {\n",
       "        vertical-align: middle;\n",
       "    }\n",
       "\n",
       "    .dataframe tbody tr th {\n",
       "        vertical-align: top;\n",
       "    }\n",
       "\n",
       "    .dataframe thead th {\n",
       "        text-align: right;\n",
       "    }\n",
       "</style>\n",
       "<table border=\"1\" class=\"dataframe\">\n",
       "  <thead>\n",
       "    <tr style=\"text-align: right;\">\n",
       "      <th></th>\n",
       "      <th>spectrum_id</th>\n",
       "      <th>spectrum_filename</th>\n",
       "      <th>chip_id</th>\n",
       "      <th>exc_wl</th>\n",
       "      <th>layout_a</th>\n",
       "      <th>layout_x</th>\n",
       "      <th>layout_y</th>\n",
       "      <th>pos_x</th>\n",
       "      <th>target</th>\n",
       "    </tr>\n",
       "  </thead>\n",
       "  <tbody>\n",
       "    <tr>\n",
       "      <th>0</th>\n",
       "      <td>000da4633378740f1ee8</td>\n",
       "      <td>b2e223339f4abce9b400.dat</td>\n",
       "      <td>79ad4647da6de6425abf</td>\n",
       "      <td>850</td>\n",
       "      <td>2</td>\n",
       "      <td>36</td>\n",
       "      <td>140</td>\n",
       "      <td>1313.0810</td>\n",
       "      <td>0</td>\n",
       "    </tr>\n",
       "    <tr>\n",
       "      <th>1</th>\n",
       "      <td>000ed1a5a9fe0ad2b7dd</td>\n",
       "      <td>e2f150a503244145e7ce.dat</td>\n",
       "      <td>79ad4647da6de6425abf</td>\n",
       "      <td>780</td>\n",
       "      <td>3</td>\n",
       "      <td>0</td>\n",
       "      <td>168</td>\n",
       "      <td>159.4150</td>\n",
       "      <td>0</td>\n",
       "    </tr>\n",
       "    <tr>\n",
       "      <th>2</th>\n",
       "      <td>0016e3322c4ce0700f9a</td>\n",
       "      <td>3d58b7ccaee157979cf0.dat</td>\n",
       "      <td>c695a1e61e002b34e556</td>\n",
       "      <td>780</td>\n",
       "      <td>1</td>\n",
       "      <td>34</td>\n",
       "      <td>29</td>\n",
       "      <td>-610.7688</td>\n",
       "      <td>0</td>\n",
       "    </tr>\n",
       "    <tr>\n",
       "      <th>3</th>\n",
       "      <td>00256bd0f8c6cf5f59c8</td>\n",
       "      <td>ed3641184d3b7c0ae703.dat</td>\n",
       "      <td>c695a1e61e002b34e556</td>\n",
       "      <td>780</td>\n",
       "      <td>2</td>\n",
       "      <td>32</td>\n",
       "      <td>139</td>\n",
       "      <td>1214.6180</td>\n",
       "      <td>0</td>\n",
       "    </tr>\n",
       "    <tr>\n",
       "      <th>4</th>\n",
       "      <td>003483ee5ae313d37590</td>\n",
       "      <td>4c63418d39f86dfab9bb.dat</td>\n",
       "      <td>c695a1e61e002b34e556</td>\n",
       "      <td>780</td>\n",
       "      <td>0</td>\n",
       "      <td>45</td>\n",
       "      <td>85</td>\n",
       "      <td>-257.6161</td>\n",
       "      <td>0</td>\n",
       "    </tr>\n",
       "  </tbody>\n",
       "</table>\n",
       "</div>"
      ],
      "text/plain": [
       "            spectrum_id         spectrum_filename               chip_id  \\\n",
       "0  000da4633378740f1ee8  b2e223339f4abce9b400.dat  79ad4647da6de6425abf   \n",
       "1  000ed1a5a9fe0ad2b7dd  e2f150a503244145e7ce.dat  79ad4647da6de6425abf   \n",
       "2  0016e3322c4ce0700f9a  3d58b7ccaee157979cf0.dat  c695a1e61e002b34e556   \n",
       "3  00256bd0f8c6cf5f59c8  ed3641184d3b7c0ae703.dat  c695a1e61e002b34e556   \n",
       "4  003483ee5ae313d37590  4c63418d39f86dfab9bb.dat  c695a1e61e002b34e556   \n",
       "\n",
       "   exc_wl  layout_a  layout_x  layout_y      pos_x  target  \n",
       "0     850         2        36       140  1313.0810       0  \n",
       "1     780         3         0       168   159.4150       0  \n",
       "2     780         1        34        29  -610.7688       0  \n",
       "3     780         2        32       139  1214.6180       0  \n",
       "4     780         0        45        85  -257.6161       0  "
      ]
     },
     "execution_count": 5,
     "metadata": {},
     "output_type": "execute_result"
    }
   ],
   "source": [
    "train_df.head()"
   ]
  },
  {
   "cell_type": "code",
   "execution_count": 6,
   "metadata": {},
   "outputs": [
    {
     "data": {
      "text/plain": [
       "Index(['spectrum_id', 'spectrum_filename', 'chip_id', 'exc_wl', 'layout_a',\n",
       "       'layout_x', 'layout_y', 'pos_x', 'target'],\n",
       "      dtype='object')"
      ]
     },
     "execution_count": 6,
     "metadata": {},
     "output_type": "execute_result"
    }
   ],
   "source": [
    "train_df.columns"
   ]
  },
  {
   "cell_type": "code",
   "execution_count": 7,
   "metadata": {},
   "outputs": [
    {
     "data": {
      "text/plain": [
       "Index(['spectrum_id', 'params0', 'params1', 'params2', 'params3', 'params4',\n",
       "       'params5', 'params6', 'rms', 'beta'],\n",
       "      dtype='object')"
      ]
     },
     "execution_count": 7,
     "metadata": {},
     "output_type": "execute_result"
    }
   ],
   "source": [
    "fitting_df.columns"
   ]
  },
  {
   "cell_type": "code",
   "execution_count": 8,
   "metadata": {},
   "outputs": [],
   "source": [
    "def create_main_table_fearue(input_df):\n",
    "    cols = ['exc_wl', 'layout_a', 'layout_x', 'layout_y', 'pos_x']\n",
    "    return input_df[cols].copy()"
   ]
  },
  {
   "cell_type": "code",
   "execution_count": 9,
   "metadata": {},
   "outputs": [],
   "source": [
    "assert len(train_df) == len(create_main_table_fearue(train_df))"
   ]
  },
  {
   "cell_type": "code",
   "execution_count": 10,
   "metadata": {},
   "outputs": [],
   "source": [
    "def create_fitting_feature(input_df):\n",
    "    cols = ['spectrum_id', 'params0', 'params1', 'params2', 'params3', 'params4',\n",
    "       'params5', 'params6', 'rms', 'beta']\n",
    "\n",
    "    fitting_df = read_fitting_data()\n",
    "    out_df = pd.merge(input_df['spectrum_id'], fitting_df[cols], on='spectrum_id', how='left')\n",
    "    out_df = out_df.drop(columns=['spectrum_id'])\n",
    "    return out_df"
   ]
  },
  {
   "cell_type": "code",
   "execution_count": 13,
   "metadata": {},
   "outputs": [],
   "source": [
    "assert len(train_df) == len(create_fitting_feature(train_df))\n",
    "assert len(create_fitting_feature(test_df).T) == len(create_fitting_feature(train_df).T)"
   ]
  },
  {
   "cell_type": "code",
   "execution_count": 14,
   "metadata": {},
   "outputs": [],
   "source": [
    "class FeatureTransformer:\n",
    "    def __init__(self, processors):\n",
    "        self.processors = processors\n",
    "\n",
    "    def to_feature(self, input_df):\n",
    "        out_df = pd.DataFrame()\n",
    "        for func in self.processors:\n",
    "            print('start {}'.format(func.__name__))\n",
    "            out_df = pd.concat([out_df, func(input_df)], axis=1)\n",
    "        return out_df"
   ]
  },
  {
   "cell_type": "code",
   "execution_count": 15,
   "metadata": {},
   "outputs": [],
   "source": [
    "feature_transformer = FeatureTransformer(processors=[create_fitting_feature, create_main_table_fearue])"
   ]
  },
  {
   "cell_type": "code",
   "execution_count": 16,
   "metadata": {},
   "outputs": [
    {
     "name": "stdout",
     "output_type": "stream",
     "text": [
      "start create_fitting_feature\n",
      "start create_main_table_fearue\n"
     ]
    }
   ],
   "source": [
    "feat_train_df = feature_transformer.to_feature(train_df)"
   ]
  },
  {
   "cell_type": "code",
   "execution_count": 22,
   "metadata": {},
   "outputs": [
    {
     "data": {
      "text/html": [
       "<div>\n",
       "<style scoped>\n",
       "    .dataframe tbody tr th:only-of-type {\n",
       "        vertical-align: middle;\n",
       "    }\n",
       "\n",
       "    .dataframe tbody tr th {\n",
       "        vertical-align: top;\n",
       "    }\n",
       "\n",
       "    .dataframe thead th {\n",
       "        text-align: right;\n",
       "    }\n",
       "</style>\n",
       "<table border=\"1\" class=\"dataframe\">\n",
       "  <thead>\n",
       "    <tr style=\"text-align: right;\">\n",
       "      <th></th>\n",
       "      <th>params0</th>\n",
       "      <th>params1</th>\n",
       "      <th>params2</th>\n",
       "      <th>params3</th>\n",
       "      <th>params4</th>\n",
       "      <th>params5</th>\n",
       "      <th>params6</th>\n",
       "      <th>rms</th>\n",
       "      <th>beta</th>\n",
       "      <th>exc_wl</th>\n",
       "      <th>layout_a</th>\n",
       "      <th>layout_x</th>\n",
       "      <th>layout_y</th>\n",
       "      <th>pos_x</th>\n",
       "    </tr>\n",
       "  </thead>\n",
       "  <tbody>\n",
       "    <tr>\n",
       "      <th>0</th>\n",
       "      <td>30.808589</td>\n",
       "      <td>5.811802e+02</td>\n",
       "      <td>1037.714752</td>\n",
       "      <td>1.531423</td>\n",
       "      <td>2.246965e+04</td>\n",
       "      <td>1032.317268</td>\n",
       "      <td>8.295610e+00</td>\n",
       "      <td>10.028668</td>\n",
       "      <td>2.521298e-02</td>\n",
       "      <td>850</td>\n",
       "      <td>2</td>\n",
       "      <td>36</td>\n",
       "      <td>140</td>\n",
       "      <td>1313.0810</td>\n",
       "    </tr>\n",
       "    <tr>\n",
       "      <th>1</th>\n",
       "      <td>91.300897</td>\n",
       "      <td>1.740582e+04</td>\n",
       "      <td>1080.510452</td>\n",
       "      <td>4.766233</td>\n",
       "      <td>3.325712e+04</td>\n",
       "      <td>1077.468855</td>\n",
       "      <td>8.018225e+00</td>\n",
       "      <td>7.948485</td>\n",
       "      <td>3.435612e-01</td>\n",
       "      <td>780</td>\n",
       "      <td>3</td>\n",
       "      <td>0</td>\n",
       "      <td>168</td>\n",
       "      <td>159.4150</td>\n",
       "    </tr>\n",
       "    <tr>\n",
       "      <th>2</th>\n",
       "      <td>106.642946</td>\n",
       "      <td>1.000000e-10</td>\n",
       "      <td>1119.464438</td>\n",
       "      <td>2.000000</td>\n",
       "      <td>4.257987e+04</td>\n",
       "      <td>1378.883338</td>\n",
       "      <td>1.168742e+01</td>\n",
       "      <td>10.739859</td>\n",
       "      <td>2.348528e-15</td>\n",
       "      <td>780</td>\n",
       "      <td>1</td>\n",
       "      <td>34</td>\n",
       "      <td>29</td>\n",
       "      <td>-610.7688</td>\n",
       "    </tr>\n",
       "    <tr>\n",
       "      <th>3</th>\n",
       "      <td>306.933674</td>\n",
       "      <td>1.099486e+04</td>\n",
       "      <td>1139.855067</td>\n",
       "      <td>5.198692</td>\n",
       "      <td>3.934974e+04</td>\n",
       "      <td>1145.212849</td>\n",
       "      <td>9.445029e+00</td>\n",
       "      <td>10.379948</td>\n",
       "      <td>2.183921e-01</td>\n",
       "      <td>780</td>\n",
       "      <td>2</td>\n",
       "      <td>32</td>\n",
       "      <td>139</td>\n",
       "      <td>1214.6180</td>\n",
       "    </tr>\n",
       "    <tr>\n",
       "      <th>4</th>\n",
       "      <td>46.133256</td>\n",
       "      <td>2.227622e+04</td>\n",
       "      <td>1120.918337</td>\n",
       "      <td>5.668012</td>\n",
       "      <td>3.105493e+04</td>\n",
       "      <td>1117.107782</td>\n",
       "      <td>7.658710e+00</td>\n",
       "      <td>8.316550</td>\n",
       "      <td>4.176962e-01</td>\n",
       "      <td>780</td>\n",
       "      <td>0</td>\n",
       "      <td>45</td>\n",
       "      <td>85</td>\n",
       "      <td>-257.6161</td>\n",
       "    </tr>\n",
       "    <tr>\n",
       "      <th>...</th>\n",
       "      <td>...</td>\n",
       "      <td>...</td>\n",
       "      <td>...</td>\n",
       "      <td>...</td>\n",
       "      <td>...</td>\n",
       "      <td>...</td>\n",
       "      <td>...</td>\n",
       "      <td>...</td>\n",
       "      <td>...</td>\n",
       "      <td>...</td>\n",
       "      <td>...</td>\n",
       "      <td>...</td>\n",
       "      <td>...</td>\n",
       "      <td>...</td>\n",
       "    </tr>\n",
       "    <tr>\n",
       "      <th>7431</th>\n",
       "      <td>117.965648</td>\n",
       "      <td>6.532486e+03</td>\n",
       "      <td>1308.737467</td>\n",
       "      <td>4.619957</td>\n",
       "      <td>1.998167e+04</td>\n",
       "      <td>1304.604584</td>\n",
       "      <td>9.733122e+00</td>\n",
       "      <td>7.705745</td>\n",
       "      <td>2.463773e-01</td>\n",
       "      <td>850</td>\n",
       "      <td>0</td>\n",
       "      <td>8</td>\n",
       "      <td>56</td>\n",
       "      <td>-1441.3620</td>\n",
       "    </tr>\n",
       "    <tr>\n",
       "      <th>7432</th>\n",
       "      <td>191.533462</td>\n",
       "      <td>8.261092e+01</td>\n",
       "      <td>1432.459878</td>\n",
       "      <td>0.520137</td>\n",
       "      <td>5.045881e+04</td>\n",
       "      <td>1364.248997</td>\n",
       "      <td>1.547290e+01</td>\n",
       "      <td>15.661228</td>\n",
       "      <td>1.634519e-03</td>\n",
       "      <td>850</td>\n",
       "      <td>3</td>\n",
       "      <td>12</td>\n",
       "      <td>2</td>\n",
       "      <td>543.2881</td>\n",
       "    </tr>\n",
       "    <tr>\n",
       "      <th>7433</th>\n",
       "      <td>-22.045684</td>\n",
       "      <td>9.999999e-11</td>\n",
       "      <td>1295.314000</td>\n",
       "      <td>2.000000</td>\n",
       "      <td>9.075595e+04</td>\n",
       "      <td>1295.527596</td>\n",
       "      <td>1.310885e+01</td>\n",
       "      <td>9.382719</td>\n",
       "      <td>1.101856e-15</td>\n",
       "      <td>780</td>\n",
       "      <td>0</td>\n",
       "      <td>41</td>\n",
       "      <td>102</td>\n",
       "      <td>-383.0251</td>\n",
       "    </tr>\n",
       "    <tr>\n",
       "      <th>7434</th>\n",
       "      <td>-13.162242</td>\n",
       "      <td>4.971294e+04</td>\n",
       "      <td>1435.929234</td>\n",
       "      <td>13.351986</td>\n",
       "      <td>5.000000e-13</td>\n",
       "      <td>1000.000003</td>\n",
       "      <td>3.146673e+06</td>\n",
       "      <td>6.912739</td>\n",
       "      <td>1.000000e+00</td>\n",
       "      <td>850</td>\n",
       "      <td>3</td>\n",
       "      <td>3</td>\n",
       "      <td>124</td>\n",
       "      <td>259.5428</td>\n",
       "    </tr>\n",
       "    <tr>\n",
       "      <th>7435</th>\n",
       "      <td>52.812973</td>\n",
       "      <td>1.000000e-10</td>\n",
       "      <td>1102.222001</td>\n",
       "      <td>2.000000</td>\n",
       "      <td>7.972584e+04</td>\n",
       "      <td>1279.113639</td>\n",
       "      <td>1.169651e+01</td>\n",
       "      <td>9.948801</td>\n",
       "      <td>1.254298e-15</td>\n",
       "      <td>850</td>\n",
       "      <td>3</td>\n",
       "      <td>19</td>\n",
       "      <td>36</td>\n",
       "      <td>769.7350</td>\n",
       "    </tr>\n",
       "  </tbody>\n",
       "</table>\n",
       "<p>7436 rows × 14 columns</p>\n",
       "</div>"
      ],
      "text/plain": [
       "         params0       params1      params2    params3       params4  \\\n",
       "0      30.808589  5.811802e+02  1037.714752   1.531423  2.246965e+04   \n",
       "1      91.300897  1.740582e+04  1080.510452   4.766233  3.325712e+04   \n",
       "2     106.642946  1.000000e-10  1119.464438   2.000000  4.257987e+04   \n",
       "3     306.933674  1.099486e+04  1139.855067   5.198692  3.934974e+04   \n",
       "4      46.133256  2.227622e+04  1120.918337   5.668012  3.105493e+04   \n",
       "...          ...           ...          ...        ...           ...   \n",
       "7431  117.965648  6.532486e+03  1308.737467   4.619957  1.998167e+04   \n",
       "7432  191.533462  8.261092e+01  1432.459878   0.520137  5.045881e+04   \n",
       "7433  -22.045684  9.999999e-11  1295.314000   2.000000  9.075595e+04   \n",
       "7434  -13.162242  4.971294e+04  1435.929234  13.351986  5.000000e-13   \n",
       "7435   52.812973  1.000000e-10  1102.222001   2.000000  7.972584e+04   \n",
       "\n",
       "          params5       params6        rms          beta  exc_wl  layout_a  \\\n",
       "0     1032.317268  8.295610e+00  10.028668  2.521298e-02     850         2   \n",
       "1     1077.468855  8.018225e+00   7.948485  3.435612e-01     780         3   \n",
       "2     1378.883338  1.168742e+01  10.739859  2.348528e-15     780         1   \n",
       "3     1145.212849  9.445029e+00  10.379948  2.183921e-01     780         2   \n",
       "4     1117.107782  7.658710e+00   8.316550  4.176962e-01     780         0   \n",
       "...           ...           ...        ...           ...     ...       ...   \n",
       "7431  1304.604584  9.733122e+00   7.705745  2.463773e-01     850         0   \n",
       "7432  1364.248997  1.547290e+01  15.661228  1.634519e-03     850         3   \n",
       "7433  1295.527596  1.310885e+01   9.382719  1.101856e-15     780         0   \n",
       "7434  1000.000003  3.146673e+06   6.912739  1.000000e+00     850         3   \n",
       "7435  1279.113639  1.169651e+01   9.948801  1.254298e-15     850         3   \n",
       "\n",
       "      layout_x  layout_y      pos_x  \n",
       "0           36       140  1313.0810  \n",
       "1            0       168   159.4150  \n",
       "2           34        29  -610.7688  \n",
       "3           32       139  1214.6180  \n",
       "4           45        85  -257.6161  \n",
       "...        ...       ...        ...  \n",
       "7431         8        56 -1441.3620  \n",
       "7432        12         2   543.2881  \n",
       "7433        41       102  -383.0251  \n",
       "7434         3       124   259.5428  \n",
       "7435        19        36   769.7350  \n",
       "\n",
       "[7436 rows x 14 columns]"
      ]
     },
     "execution_count": 22,
     "metadata": {},
     "output_type": "execute_result"
    }
   ],
   "source": [
    "feat_train_df"
   ]
  },
  {
   "cell_type": "code",
   "execution_count": 17,
   "metadata": {},
   "outputs": [],
   "source": [
    "params = {\n",
    "    'objective': 'binary',\n",
    "    'learning_rate': 0.05,\n",
    "    'reg_lambda': 1.,\n",
    "    'n_estimators': 10000,\n",
    "    'colsample_bytree': .7\n",
    "}\n",
    "\n",
    "X = feat_train_df.values\n",
    "y = train_df['target'].values"
   ]
  },
  {
   "cell_type": "code",
   "execution_count": 18,
   "metadata": {},
   "outputs": [],
   "source": [
    "from sklearn.model_selection import StratifiedKFold\n",
    "\n",
    "fold = StratifiedKFold(n_splits=5, shuffle=True, random_state=71)\n",
    "cv = list(fold.split(X, y))"
   ]
  },
  {
   "cell_type": "code",
   "execution_count": 23,
   "metadata": {},
   "outputs": [],
   "source": [
    "from sklearn.metrics import average_precision_score\n",
    "import lightgbm as lgbm\n",
    "\n",
    "def pr_auc(y_true, y_pred):\n",
    "    # \n",
    "    # y_true = data.get_label()\n",
    "    score = average_precision_score(y_true, y_pred)\n",
    "    return \"pr_auc\", score, True\n",
    "\n",
    "def fit_lgbm(X, y, cv, params: dict=None, verbose=10):\n",
    "\n",
    "    # パラメータがないときはからの dict で置き換える\n",
    "    if params is None:\n",
    "        params = {}\n",
    "\n",
    "    models = []\n",
    "    # training data の target と同じだけのゼロ配列を用意\n",
    "    # float にしないと悲しい事件が起こるのでそこだけ注意\n",
    "    oof_pred = np.zeros_like(y, dtype=np.float)\n",
    "\n",
    "    for i, (idx_train, idx_valid) in enumerate(cv):\n",
    "        # training data を trian/valid に分割\n",
    "        x_train, y_train = X[idx_train], y[idx_train]\n",
    "        x_valid, y_valid = X[idx_valid], y[idx_valid]\n",
    "\n",
    "        clf = lgbm.LGBMClassifier(**params)\n",
    "        clf.fit(x_train, y_train, \n",
    "                eval_set=[(x_valid, y_valid)],  \n",
    "                early_stopping_rounds=100, \n",
    "                eval_metric=pr_auc,\n",
    "                verbose=verbose)\n",
    "\n",
    "        pred_i = clf.predict_proba(x_valid)[:, 1]\n",
    "        oof_pred[idx_valid] = pred_i\n",
    "        models.append(clf)\n",
    "\n",
    "        print(f'Fold {i} PR-AUC: {average_precision_score(y_valid, pred_i):.4f}')\n",
    "\n",
    "    score = average_precision_score(y, oof_pred)\n",
    "    print('FINISHED \\ whole score: {:.4f}'.format(score))\n",
    "    return oof_pred, models"
   ]
  },
  {
   "cell_type": "code",
   "execution_count": 24,
   "metadata": {},
   "outputs": [
    {
     "name": "stdout",
     "output_type": "stream",
     "text": [
      "Training until validation scores don't improve for 100 rounds\n",
      "[10]\tvalid_0's binary_logloss: 0.0924316\tvalid_0's pr_auc: 0.683976\n",
      "[20]\tvalid_0's binary_logloss: 0.07705\tvalid_0's pr_auc: 0.705853\n",
      "[30]\tvalid_0's binary_logloss: 0.0696191\tvalid_0's pr_auc: 0.718389\n",
      "[40]\tvalid_0's binary_logloss: 0.0657554\tvalid_0's pr_auc: 0.723882\n",
      "[50]\tvalid_0's binary_logloss: 0.0624725\tvalid_0's pr_auc: 0.738826\n",
      "[60]\tvalid_0's binary_logloss: 0.0615023\tvalid_0's pr_auc: 0.735271\n",
      "[70]\tvalid_0's binary_logloss: 0.0610571\tvalid_0's pr_auc: 0.740016\n",
      "[80]\tvalid_0's binary_logloss: 0.061082\tvalid_0's pr_auc: 0.736618\n",
      "[90]\tvalid_0's binary_logloss: 0.0612196\tvalid_0's pr_auc: 0.738094\n",
      "[100]\tvalid_0's binary_logloss: 0.0611007\tvalid_0's pr_auc: 0.742414\n",
      "[110]\tvalid_0's binary_logloss: 0.0612896\tvalid_0's pr_auc: 0.743455\n",
      "[120]\tvalid_0's binary_logloss: 0.0619178\tvalid_0's pr_auc: 0.740445\n",
      "[130]\tvalid_0's binary_logloss: 0.0625785\tvalid_0's pr_auc: 0.73935\n",
      "[140]\tvalid_0's binary_logloss: 0.0630003\tvalid_0's pr_auc: 0.740497\n",
      "[150]\tvalid_0's binary_logloss: 0.0636435\tvalid_0's pr_auc: 0.740498\n",
      "[160]\tvalid_0's binary_logloss: 0.0640952\tvalid_0's pr_auc: 0.740839\n",
      "[170]\tvalid_0's binary_logloss: 0.0644062\tvalid_0's pr_auc: 0.739265\n",
      "Early stopping, best iteration is:\n",
      "[77]\tvalid_0's binary_logloss: 0.0608636\tvalid_0's pr_auc: 0.739585\n",
      "Fold 0 PR-AUC: 0.7396\n",
      "Training until validation scores don't improve for 100 rounds\n",
      "[10]\tvalid_0's binary_logloss: 0.0946429\tvalid_0's pr_auc: 0.606505\n",
      "[20]\tvalid_0's binary_logloss: 0.0792499\tvalid_0's pr_auc: 0.64846\n",
      "[30]\tvalid_0's binary_logloss: 0.0712527\tvalid_0's pr_auc: 0.667096\n",
      "[40]\tvalid_0's binary_logloss: 0.0667521\tvalid_0's pr_auc: 0.676147\n",
      "[50]\tvalid_0's binary_logloss: 0.0634104\tvalid_0's pr_auc: 0.697377\n",
      "[60]\tvalid_0's binary_logloss: 0.061239\tvalid_0's pr_auc: 0.699331\n",
      "[70]\tvalid_0's binary_logloss: 0.0604794\tvalid_0's pr_auc: 0.704755\n",
      "[80]\tvalid_0's binary_logloss: 0.0597642\tvalid_0's pr_auc: 0.709442\n",
      "[90]\tvalid_0's binary_logloss: 0.0596764\tvalid_0's pr_auc: 0.716385\n",
      "[100]\tvalid_0's binary_logloss: 0.0596594\tvalid_0's pr_auc: 0.71802\n",
      "[110]\tvalid_0's binary_logloss: 0.0601957\tvalid_0's pr_auc: 0.721937\n",
      "[120]\tvalid_0's binary_logloss: 0.0601619\tvalid_0's pr_auc: 0.728897\n",
      "[130]\tvalid_0's binary_logloss: 0.0612888\tvalid_0's pr_auc: 0.727353\n",
      "[140]\tvalid_0's binary_logloss: 0.0615956\tvalid_0's pr_auc: 0.732414\n",
      "[150]\tvalid_0's binary_logloss: 0.0621816\tvalid_0's pr_auc: 0.730653\n",
      "[160]\tvalid_0's binary_logloss: 0.0623054\tvalid_0's pr_auc: 0.735805\n",
      "[170]\tvalid_0's binary_logloss: 0.0628272\tvalid_0's pr_auc: 0.736325\n",
      "[180]\tvalid_0's binary_logloss: 0.0631472\tvalid_0's pr_auc: 0.733669\n",
      "[190]\tvalid_0's binary_logloss: 0.0634761\tvalid_0's pr_auc: 0.735348\n",
      "Early stopping, best iteration is:\n",
      "[92]\tvalid_0's binary_logloss: 0.0594211\tvalid_0's pr_auc: 0.717547\n",
      "Fold 1 PR-AUC: 0.7175\n",
      "Training until validation scores don't improve for 100 rounds\n",
      "[10]\tvalid_0's binary_logloss: 0.0908447\tvalid_0's pr_auc: 0.747783\n",
      "[20]\tvalid_0's binary_logloss: 0.0745667\tvalid_0's pr_auc: 0.764995\n",
      "[30]\tvalid_0's binary_logloss: 0.0661625\tvalid_0's pr_auc: 0.770485\n",
      "[40]\tvalid_0's binary_logloss: 0.0619801\tvalid_0's pr_auc: 0.772303\n",
      "[50]\tvalid_0's binary_logloss: 0.0582786\tvalid_0's pr_auc: 0.779222\n",
      "[60]\tvalid_0's binary_logloss: 0.0563421\tvalid_0's pr_auc: 0.785473\n",
      "[70]\tvalid_0's binary_logloss: 0.0554915\tvalid_0's pr_auc: 0.786946\n",
      "[80]\tvalid_0's binary_logloss: 0.0547071\tvalid_0's pr_auc: 0.787712\n",
      "[90]\tvalid_0's binary_logloss: 0.0544789\tvalid_0's pr_auc: 0.786213\n",
      "[100]\tvalid_0's binary_logloss: 0.0543027\tvalid_0's pr_auc: 0.788049\n",
      "[110]\tvalid_0's binary_logloss: 0.0548182\tvalid_0's pr_auc: 0.789906\n",
      "[120]\tvalid_0's binary_logloss: 0.0552665\tvalid_0's pr_auc: 0.78473\n",
      "[130]\tvalid_0's binary_logloss: 0.0556344\tvalid_0's pr_auc: 0.786771\n",
      "[140]\tvalid_0's binary_logloss: 0.0561294\tvalid_0's pr_auc: 0.785817\n",
      "[150]\tvalid_0's binary_logloss: 0.0563193\tvalid_0's pr_auc: 0.787417\n",
      "[160]\tvalid_0's binary_logloss: 0.0569229\tvalid_0's pr_auc: 0.783934\n",
      "[170]\tvalid_0's binary_logloss: 0.05745\tvalid_0's pr_auc: 0.785104\n",
      "Early stopping, best iteration is:\n",
      "[78]\tvalid_0's binary_logloss: 0.0546211\tvalid_0's pr_auc: 0.791007\n",
      "Fold 2 PR-AUC: 0.7910\n",
      "Training until validation scores don't improve for 100 rounds\n",
      "[10]\tvalid_0's binary_logloss: 0.0849308\tvalid_0's pr_auc: 0.757523\n",
      "[20]\tvalid_0's binary_logloss: 0.0674495\tvalid_0's pr_auc: 0.758498\n",
      "[30]\tvalid_0's binary_logloss: 0.0572578\tvalid_0's pr_auc: 0.767546\n",
      "[40]\tvalid_0's binary_logloss: 0.0510002\tvalid_0's pr_auc: 0.772193\n",
      "[50]\tvalid_0's binary_logloss: 0.0459784\tvalid_0's pr_auc: 0.787941\n",
      "[60]\tvalid_0's binary_logloss: 0.0425132\tvalid_0's pr_auc: 0.800793\n",
      "[70]\tvalid_0's binary_logloss: 0.0406601\tvalid_0's pr_auc: 0.805571\n",
      "[80]\tvalid_0's binary_logloss: 0.0392625\tvalid_0's pr_auc: 0.811129\n",
      "[90]\tvalid_0's binary_logloss: 0.0384162\tvalid_0's pr_auc: 0.823069\n",
      "[100]\tvalid_0's binary_logloss: 0.0373621\tvalid_0's pr_auc: 0.838118\n",
      "[110]\tvalid_0's binary_logloss: 0.0368614\tvalid_0's pr_auc: 0.838823\n",
      "[120]\tvalid_0's binary_logloss: 0.0361536\tvalid_0's pr_auc: 0.845316\n",
      "[130]\tvalid_0's binary_logloss: 0.0356787\tvalid_0's pr_auc: 0.849279\n",
      "[140]\tvalid_0's binary_logloss: 0.0354588\tvalid_0's pr_auc: 0.851464\n",
      "[150]\tvalid_0's binary_logloss: 0.0351388\tvalid_0's pr_auc: 0.853416\n",
      "[160]\tvalid_0's binary_logloss: 0.0347727\tvalid_0's pr_auc: 0.850054\n",
      "[170]\tvalid_0's binary_logloss: 0.0346903\tvalid_0's pr_auc: 0.857736\n",
      "[180]\tvalid_0's binary_logloss: 0.0346541\tvalid_0's pr_auc: 0.857515\n",
      "[190]\tvalid_0's binary_logloss: 0.0346546\tvalid_0's pr_auc: 0.856634\n",
      "[200]\tvalid_0's binary_logloss: 0.0347099\tvalid_0's pr_auc: 0.860869\n",
      "[210]\tvalid_0's binary_logloss: 0.0347593\tvalid_0's pr_auc: 0.856114\n",
      "[220]\tvalid_0's binary_logloss: 0.0349169\tvalid_0's pr_auc: 0.85932\n",
      "[230]\tvalid_0's binary_logloss: 0.0350445\tvalid_0's pr_auc: 0.859922\n",
      "[240]\tvalid_0's binary_logloss: 0.0351176\tvalid_0's pr_auc: 0.859543\n",
      "[250]\tvalid_0's binary_logloss: 0.0352146\tvalid_0's pr_auc: 0.857024\n",
      "[260]\tvalid_0's binary_logloss: 0.0353949\tvalid_0's pr_auc: 0.859027\n",
      "[270]\tvalid_0's binary_logloss: 0.0355198\tvalid_0's pr_auc: 0.858464\n",
      "Early stopping, best iteration is:\n",
      "[178]\tvalid_0's binary_logloss: 0.034528\tvalid_0's pr_auc: 0.861811\n",
      "Fold 3 PR-AUC: 0.8618\n",
      "Training until validation scores don't improve for 100 rounds\n",
      "[10]\tvalid_0's binary_logloss: 0.0935379\tvalid_0's pr_auc: 0.698381\n",
      "[20]\tvalid_0's binary_logloss: 0.0751649\tvalid_0's pr_auc: 0.766918\n",
      "[30]\tvalid_0's binary_logloss: 0.0637979\tvalid_0's pr_auc: 0.797492\n",
      "[40]\tvalid_0's binary_logloss: 0.0579035\tvalid_0's pr_auc: 0.80694\n",
      "[50]\tvalid_0's binary_logloss: 0.0534998\tvalid_0's pr_auc: 0.816742\n",
      "[60]\tvalid_0's binary_logloss: 0.0507591\tvalid_0's pr_auc: 0.822691\n",
      "[70]\tvalid_0's binary_logloss: 0.049083\tvalid_0's pr_auc: 0.824105\n",
      "[80]\tvalid_0's binary_logloss: 0.0476698\tvalid_0's pr_auc: 0.833709\n",
      "[90]\tvalid_0's binary_logloss: 0.047293\tvalid_0's pr_auc: 0.833315\n",
      "[100]\tvalid_0's binary_logloss: 0.0466345\tvalid_0's pr_auc: 0.837248\n",
      "[110]\tvalid_0's binary_logloss: 0.0463425\tvalid_0's pr_auc: 0.839618\n",
      "[120]\tvalid_0's binary_logloss: 0.0458231\tvalid_0's pr_auc: 0.843943\n",
      "[130]\tvalid_0's binary_logloss: 0.0455053\tvalid_0's pr_auc: 0.844734\n",
      "[140]\tvalid_0's binary_logloss: 0.0457476\tvalid_0's pr_auc: 0.844803\n",
      "[150]\tvalid_0's binary_logloss: 0.0458788\tvalid_0's pr_auc: 0.845906\n",
      "[160]\tvalid_0's binary_logloss: 0.0455359\tvalid_0's pr_auc: 0.849732\n",
      "[170]\tvalid_0's binary_logloss: 0.0458598\tvalid_0's pr_auc: 0.849416\n",
      "[180]\tvalid_0's binary_logloss: 0.0462874\tvalid_0's pr_auc: 0.846956\n",
      "[190]\tvalid_0's binary_logloss: 0.0459715\tvalid_0's pr_auc: 0.851708\n",
      "[200]\tvalid_0's binary_logloss: 0.0460563\tvalid_0's pr_auc: 0.853558\n",
      "[210]\tvalid_0's binary_logloss: 0.0461622\tvalid_0's pr_auc: 0.853885\n",
      "[220]\tvalid_0's binary_logloss: 0.0462953\tvalid_0's pr_auc: 0.854647\n",
      "[230]\tvalid_0's binary_logloss: 0.0463856\tvalid_0's pr_auc: 0.854784\n",
      "Early stopping, best iteration is:\n",
      "[130]\tvalid_0's binary_logloss: 0.0455053\tvalid_0's pr_auc: 0.844734\n",
      "Fold 4 PR-AUC: 0.8447\n",
      "FINISHED \\ whole score: 0.7832\n"
     ]
    }
   ],
   "source": [
    "oof, models = fit_lgbm(X, y, cv=cv, params=params)"
   ]
  },
  {
   "cell_type": "code",
   "execution_count": 25,
   "metadata": {},
   "outputs": [],
   "source": [
    "def visualize_importance(models, feat_train_df):\n",
    "    feature_importance_df = pd.DataFrame()\n",
    "    for i, model in enumerate(models):\n",
    "        _df = pd.DataFrame()\n",
    "        _df['feature_importance'] = model.feature_importances_\n",
    "        _df['column'] = feat_train_df.columns\n",
    "        _df['fold'] = i + 1\n",
    "        feature_importance_df = pd.concat([feature_importance_df, _df], axis=0, ignore_index=True)\n",
    "\n",
    "    order = feature_importance_df.groupby('column')\\\n",
    "        .sum()[['feature_importance']]\\\n",
    "        .sort_values('feature_importance', ascending=False).index[:50]\n",
    "\n",
    "    fig, ax = plt.subplots(figsize=(len(order) * .4, 7))\n",
    "    sns.boxenplot(data=feature_importance_df, x='column', y='feature_importance', order=order, ax=ax, palette='viridis')\n",
    "    ax.tick_params(axis='x', rotation=90)\n",
    "    fig.tight_layout()\n",
    "    return fig, ax"
   ]
  },
  {
   "cell_type": "code",
   "execution_count": 26,
   "metadata": {},
   "outputs": [
    {
     "data": {
      "text/plain": [
       "(<Figure size 403.2x504 with 1 Axes>,\n",
       " <matplotlib.axes._subplots.AxesSubplot at 0x7fb9b01f0fd0>)"
      ]
     },
     "execution_count": 26,
     "metadata": {},
     "output_type": "execute_result"
    },
    {
     "data": {
      "image/png": "[encoded data removed]",
      "text/plain": [
       "<Figure size 403.2x504 with 1 Axes>"
      ]
     },
     "metadata": {
      "needs_background": "light"
     },
     "output_type": "display_data"
    }
   ],
   "source": [
    "visualize_importance(models, feat_train_df)"
   ]
  },
  {
   "cell_type": "code",
   "execution_count": 27,
   "metadata": {},
   "outputs": [
    {
     "data": {
      "text/plain": [
       "0.7832340904004277"
      ]
     },
     "execution_count": 27,
     "metadata": {},
     "output_type": "execute_result"
    }
   ],
   "source": [
    "average_precision_score(y, oof)"
   ]
  },
  {
   "cell_type": "code",
   "execution_count": null,
   "metadata": {},
   "outputs": [],
   "source": [
    "feat_test_df = feat_transformer.to_feature(test_df)\n",
    "pred = np.array([model.predict_proba(feat_test_df.values)[:, 1] for model in models])\n",
    "pred = np.mean(pred, axis=0)\n",
    "\n",
    "sub_df = pd.DataFrame({ 'target': pred })\n",
    "sub_df.to_csv('submission001.csv', index=False)"
   ]
  }
 ],
 "metadata": {
  "kernelspec": {
   "display_name": "Python 3",
   "language": "python",
   "name": "python3"
  },
  "language_info": {
   "codemirror_mode": {
    "name": "ipython",
    "version": 3
   },
   "file_extension": ".py",
   "mimetype": "text/x-python",
   "name": "python",
   "nbconvert_exporter": "python",
   "pygments_lexer": "ipython3",
   "version": "3.7.6"
  }
 },
 "nbformat": 4,
 "nbformat_minor": 4
}
