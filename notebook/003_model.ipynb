{
 "cells": [
  {
   "cell_type": "code",
   "execution_count": 1,
   "metadata": {},
   "outputs": [
    {
     "name": "stderr",
     "output_type": "stream",
     "text": [
      "/home/jupyter/workspace/mytabular/.venv/lib/python3.7/site-packages/pandas/compat/__init__.py:117: UserWarning: Could not import the lzma module. Your installed Python is incomplete. Attempting to use lzma compression will result in a RuntimeError.\n",
      "  warnings.warn(msg)\n"
     ]
    }
   ],
   "source": [
    "import os\n",
    "from pathlib import Path\n",
    "\n",
    "import numpy as np\n",
    "import pandas as pd\n",
    "from glob import glob\n",
    "from tqdm import tqdm\n",
    "\n",
    "import matplotlib.pyplot as plt\n",
    "import seaborn as sns"
   ]
  },
  {
   "cell_type": "code",
   "execution_count": 2,
   "metadata": {},
   "outputs": [],
   "source": [
    "datadir = Path('../data/atmacup5')\n",
    "train_df = pd.read_csv(datadir / 'train.csv')\n",
    "test_df = pd.read_csv(datadir / 'test.csv')\n",
    "fitting_df = pd.read_csv(datadir / 'fitting.csv')"
   ]
  },
  {
   "cell_type": "code",
   "execution_count": 3,
   "metadata": {},
   "outputs": [],
   "source": [
    "def read_fitting_data():\n",
    "    return pd.read_csv(datadir / 'fitting.csv')"
   ]
  },
  {
   "cell_type": "code",
   "execution_count": 4,
   "metadata": {},
   "outputs": [
    {
     "name": "stderr",
     "output_type": "stream",
     "text": [
      "14388it [00:32, 444.04it/s]\n"
     ]
    }
   ],
   "source": [
    "wave_data = {}\n",
    "\n",
    "files = (datadir / 'spectrum_raw').glob('*.dat')\n",
    "for p in tqdm(files):\n",
    "    _df = pd.read_csv(p, sep='\\t', header=None)\n",
    "    x = np.zeros(shape=(512,), dtype=np.float32)\n",
    "    x[:len(_df)] = _df.values[:, 1]\n",
    "    wave_data[os.path.basename(p)] = x"
   ]
  },
  {
   "cell_type": "code",
   "execution_count": 5,
   "metadata": {
    "scrolled": true
   },
   "outputs": [
    {
     "name": "stdout",
     "output_type": "stream",
     "text": [
      "spectrum_id          0\n",
      "spectrum_filename    0\n",
      "chip_id              0\n",
      "exc_wl               0\n",
      "layout_a             0\n",
      "layout_x             0\n",
      "layout_y             0\n",
      "pos_x                0\n",
      "target               0\n",
      "dtype: int64\n",
      "spectrum_id          0\n",
      "spectrum_filename    0\n",
      "chip_id              0\n",
      "exc_wl               0\n",
      "layout_a             0\n",
      "layout_x             0\n",
      "layout_y             0\n",
      "pos_x                0\n",
      "dtype: int64\n",
      "spectrum_id    0\n",
      "params0        0\n",
      "params1        0\n",
      "params2        0\n",
      "params3        0\n",
      "params4        0\n",
      "params5        0\n",
      "params6        0\n",
      "rms            0\n",
      "beta           0\n",
      "dtype: int64\n"
     ]
    }
   ],
   "source": [
    "print(train_df.isnull().sum())\n",
    "print(test_df.isnull().sum())\n",
    "print(fitting_df.isnull().sum())"
   ]
  },
  {
   "cell_type": "code",
   "execution_count": 6,
   "metadata": {},
   "outputs": [
    {
     "data": {
      "text/html": [
       "<div>\n",
       "<style scoped>\n",
       "    .dataframe tbody tr th:only-of-type {\n",
       "        vertical-align: middle;\n",
       "    }\n",
       "\n",
       "    .dataframe tbody tr th {\n",
       "        vertical-align: top;\n",
       "    }\n",
       "\n",
       "    .dataframe thead th {\n",
       "        text-align: right;\n",
       "    }\n",
       "</style>\n",
       "<table border=\"1\" class=\"dataframe\">\n",
       "  <thead>\n",
       "    <tr style=\"text-align: right;\">\n",
       "      <th></th>\n",
       "      <th>spectrum_id</th>\n",
       "      <th>spectrum_filename</th>\n",
       "      <th>chip_id</th>\n",
       "      <th>exc_wl</th>\n",
       "      <th>layout_a</th>\n",
       "      <th>layout_x</th>\n",
       "      <th>layout_y</th>\n",
       "      <th>pos_x</th>\n",
       "      <th>target</th>\n",
       "    </tr>\n",
       "  </thead>\n",
       "  <tbody>\n",
       "    <tr>\n",
       "      <th>0</th>\n",
       "      <td>000da4633378740f1ee8</td>\n",
       "      <td>b2e223339f4abce9b400.dat</td>\n",
       "      <td>79ad4647da6de6425abf</td>\n",
       "      <td>850</td>\n",
       "      <td>2</td>\n",
       "      <td>36</td>\n",
       "      <td>140</td>\n",
       "      <td>1313.0810</td>\n",
       "      <td>0</td>\n",
       "    </tr>\n",
       "    <tr>\n",
       "      <th>1</th>\n",
       "      <td>000ed1a5a9fe0ad2b7dd</td>\n",
       "      <td>e2f150a503244145e7ce.dat</td>\n",
       "      <td>79ad4647da6de6425abf</td>\n",
       "      <td>780</td>\n",
       "      <td>3</td>\n",
       "      <td>0</td>\n",
       "      <td>168</td>\n",
       "      <td>159.4150</td>\n",
       "      <td>0</td>\n",
       "    </tr>\n",
       "    <tr>\n",
       "      <th>2</th>\n",
       "      <td>0016e3322c4ce0700f9a</td>\n",
       "      <td>3d58b7ccaee157979cf0.dat</td>\n",
       "      <td>c695a1e61e002b34e556</td>\n",
       "      <td>780</td>\n",
       "      <td>1</td>\n",
       "      <td>34</td>\n",
       "      <td>29</td>\n",
       "      <td>-610.7688</td>\n",
       "      <td>0</td>\n",
       "    </tr>\n",
       "    <tr>\n",
       "      <th>3</th>\n",
       "      <td>00256bd0f8c6cf5f59c8</td>\n",
       "      <td>ed3641184d3b7c0ae703.dat</td>\n",
       "      <td>c695a1e61e002b34e556</td>\n",
       "      <td>780</td>\n",
       "      <td>2</td>\n",
       "      <td>32</td>\n",
       "      <td>139</td>\n",
       "      <td>1214.6180</td>\n",
       "      <td>0</td>\n",
       "    </tr>\n",
       "    <tr>\n",
       "      <th>4</th>\n",
       "      <td>003483ee5ae313d37590</td>\n",
       "      <td>4c63418d39f86dfab9bb.dat</td>\n",
       "      <td>c695a1e61e002b34e556</td>\n",
       "      <td>780</td>\n",
       "      <td>0</td>\n",
       "      <td>45</td>\n",
       "      <td>85</td>\n",
       "      <td>-257.6161</td>\n",
       "      <td>0</td>\n",
       "    </tr>\n",
       "  </tbody>\n",
       "</table>\n",
       "</div>"
      ],
      "text/plain": [
       "            spectrum_id         spectrum_filename               chip_id  \\\n",
       "0  000da4633378740f1ee8  b2e223339f4abce9b400.dat  79ad4647da6de6425abf   \n",
       "1  000ed1a5a9fe0ad2b7dd  e2f150a503244145e7ce.dat  79ad4647da6de6425abf   \n",
       "2  0016e3322c4ce0700f9a  3d58b7ccaee157979cf0.dat  c695a1e61e002b34e556   \n",
       "3  00256bd0f8c6cf5f59c8  ed3641184d3b7c0ae703.dat  c695a1e61e002b34e556   \n",
       "4  003483ee5ae313d37590  4c63418d39f86dfab9bb.dat  c695a1e61e002b34e556   \n",
       "\n",
       "   exc_wl  layout_a  layout_x  layout_y      pos_x  target  \n",
       "0     850         2        36       140  1313.0810       0  \n",
       "1     780         3         0       168   159.4150       0  \n",
       "2     780         1        34        29  -610.7688       0  \n",
       "3     780         2        32       139  1214.6180       0  \n",
       "4     780         0        45        85  -257.6161       0  "
      ]
     },
     "execution_count": 6,
     "metadata": {},
     "output_type": "execute_result"
    }
   ],
   "source": [
    "train_df.head()"
   ]
  },
  {
   "cell_type": "code",
   "execution_count": 7,
   "metadata": {},
   "outputs": [
    {
     "data": {
      "text/plain": [
       "Index(['spectrum_id', 'spectrum_filename', 'chip_id', 'exc_wl', 'layout_a',\n",
       "       'layout_x', 'layout_y', 'pos_x', 'target'],\n",
       "      dtype='object')"
      ]
     },
     "execution_count": 7,
     "metadata": {},
     "output_type": "execute_result"
    }
   ],
   "source": [
    "train_df.columns"
   ]
  },
  {
   "cell_type": "code",
   "execution_count": 8,
   "metadata": {},
   "outputs": [
    {
     "data": {
      "text/plain": [
       "Index(['spectrum_id', 'params0', 'params1', 'params2', 'params3', 'params4',\n",
       "       'params5', 'params6', 'rms', 'beta'],\n",
       "      dtype='object')"
      ]
     },
     "execution_count": 8,
     "metadata": {},
     "output_type": "execute_result"
    }
   ],
   "source": [
    "fitting_df.columns"
   ]
  },
  {
   "cell_type": "code",
   "execution_count": 9,
   "metadata": {},
   "outputs": [
    {
     "data": {
      "text/html": [
       "<div>\n",
       "<style scoped>\n",
       "    .dataframe tbody tr th:only-of-type {\n",
       "        vertical-align: middle;\n",
       "    }\n",
       "\n",
       "    .dataframe tbody tr th {\n",
       "        vertical-align: top;\n",
       "    }\n",
       "\n",
       "    .dataframe thead th {\n",
       "        text-align: right;\n",
       "    }\n",
       "</style>\n",
       "<table border=\"1\" class=\"dataframe\">\n",
       "  <thead>\n",
       "    <tr style=\"text-align: right;\">\n",
       "      <th></th>\n",
       "      <th>spectrum_id</th>\n",
       "      <th>spectrum_filename</th>\n",
       "      <th>chip_id</th>\n",
       "      <th>exc_wl</th>\n",
       "      <th>layout_a</th>\n",
       "      <th>layout_x</th>\n",
       "      <th>layout_y</th>\n",
       "      <th>pos_x</th>\n",
       "      <th>target</th>\n",
       "    </tr>\n",
       "  </thead>\n",
       "  <tbody>\n",
       "    <tr>\n",
       "      <th>0</th>\n",
       "      <td>000da4633378740f1ee8</td>\n",
       "      <td>b2e223339f4abce9b400.dat</td>\n",
       "      <td>79ad4647da6de6425abf</td>\n",
       "      <td>850</td>\n",
       "      <td>2</td>\n",
       "      <td>36</td>\n",
       "      <td>140</td>\n",
       "      <td>1313.0810</td>\n",
       "      <td>0</td>\n",
       "    </tr>\n",
       "    <tr>\n",
       "      <th>1</th>\n",
       "      <td>000ed1a5a9fe0ad2b7dd</td>\n",
       "      <td>e2f150a503244145e7ce.dat</td>\n",
       "      <td>79ad4647da6de6425abf</td>\n",
       "      <td>780</td>\n",
       "      <td>3</td>\n",
       "      <td>0</td>\n",
       "      <td>168</td>\n",
       "      <td>159.4150</td>\n",
       "      <td>0</td>\n",
       "    </tr>\n",
       "    <tr>\n",
       "      <th>2</th>\n",
       "      <td>0016e3322c4ce0700f9a</td>\n",
       "      <td>3d58b7ccaee157979cf0.dat</td>\n",
       "      <td>c695a1e61e002b34e556</td>\n",
       "      <td>780</td>\n",
       "      <td>1</td>\n",
       "      <td>34</td>\n",
       "      <td>29</td>\n",
       "      <td>-610.7688</td>\n",
       "      <td>0</td>\n",
       "    </tr>\n",
       "    <tr>\n",
       "      <th>3</th>\n",
       "      <td>00256bd0f8c6cf5f59c8</td>\n",
       "      <td>ed3641184d3b7c0ae703.dat</td>\n",
       "      <td>c695a1e61e002b34e556</td>\n",
       "      <td>780</td>\n",
       "      <td>2</td>\n",
       "      <td>32</td>\n",
       "      <td>139</td>\n",
       "      <td>1214.6180</td>\n",
       "      <td>0</td>\n",
       "    </tr>\n",
       "    <tr>\n",
       "      <th>4</th>\n",
       "      <td>003483ee5ae313d37590</td>\n",
       "      <td>4c63418d39f86dfab9bb.dat</td>\n",
       "      <td>c695a1e61e002b34e556</td>\n",
       "      <td>780</td>\n",
       "      <td>0</td>\n",
       "      <td>45</td>\n",
       "      <td>85</td>\n",
       "      <td>-257.6161</td>\n",
       "      <td>0</td>\n",
       "    </tr>\n",
       "    <tr>\n",
       "      <th>...</th>\n",
       "      <td>...</td>\n",
       "      <td>...</td>\n",
       "      <td>...</td>\n",
       "      <td>...</td>\n",
       "      <td>...</td>\n",
       "      <td>...</td>\n",
       "      <td>...</td>\n",
       "      <td>...</td>\n",
       "      <td>...</td>\n",
       "    </tr>\n",
       "    <tr>\n",
       "      <th>7431</th>\n",
       "      <td>ffcc2d0e80130bcd1f66</td>\n",
       "      <td>677582af16aeb72c01df.dat</td>\n",
       "      <td>0b9dbf13f938efd5717f</td>\n",
       "      <td>850</td>\n",
       "      <td>0</td>\n",
       "      <td>8</td>\n",
       "      <td>56</td>\n",
       "      <td>-1441.3620</td>\n",
       "      <td>0</td>\n",
       "    </tr>\n",
       "    <tr>\n",
       "      <th>7432</th>\n",
       "      <td>ffd86d57b9d44f10c7d0</td>\n",
       "      <td>6f23369fb8e0d1fde118.dat</td>\n",
       "      <td>84b788fdc5e779f8a0df</td>\n",
       "      <td>850</td>\n",
       "      <td>3</td>\n",
       "      <td>12</td>\n",
       "      <td>2</td>\n",
       "      <td>543.2881</td>\n",
       "      <td>0</td>\n",
       "    </tr>\n",
       "    <tr>\n",
       "      <th>7433</th>\n",
       "      <td>ffdc78c1ca0a8c5a689f</td>\n",
       "      <td>825df3fcf8ce0570f0be.dat</td>\n",
       "      <td>6718e7f83c824b1e436d</td>\n",
       "      <td>780</td>\n",
       "      <td>0</td>\n",
       "      <td>41</td>\n",
       "      <td>102</td>\n",
       "      <td>-383.0251</td>\n",
       "      <td>0</td>\n",
       "    </tr>\n",
       "    <tr>\n",
       "      <th>7434</th>\n",
       "      <td>ffe1a53afdbab5ebddeb</td>\n",
       "      <td>5a2bd19c41cb6da70b33.dat</td>\n",
       "      <td>84b788fdc5e779f8a0df</td>\n",
       "      <td>850</td>\n",
       "      <td>3</td>\n",
       "      <td>3</td>\n",
       "      <td>124</td>\n",
       "      <td>259.5428</td>\n",
       "      <td>0</td>\n",
       "    </tr>\n",
       "    <tr>\n",
       "      <th>7435</th>\n",
       "      <td>ffe37357ccb2029449af</td>\n",
       "      <td>f5c909d6c7739cc6a275.dat</td>\n",
       "      <td>118c70535bd753a86615</td>\n",
       "      <td>850</td>\n",
       "      <td>3</td>\n",
       "      <td>19</td>\n",
       "      <td>36</td>\n",
       "      <td>769.7350</td>\n",
       "      <td>0</td>\n",
       "    </tr>\n",
       "  </tbody>\n",
       "</table>\n",
       "<p>7436 rows × 9 columns</p>\n",
       "</div>"
      ],
      "text/plain": [
       "               spectrum_id         spectrum_filename               chip_id  \\\n",
       "0     000da4633378740f1ee8  b2e223339f4abce9b400.dat  79ad4647da6de6425abf   \n",
       "1     000ed1a5a9fe0ad2b7dd  e2f150a503244145e7ce.dat  79ad4647da6de6425abf   \n",
       "2     0016e3322c4ce0700f9a  3d58b7ccaee157979cf0.dat  c695a1e61e002b34e556   \n",
       "3     00256bd0f8c6cf5f59c8  ed3641184d3b7c0ae703.dat  c695a1e61e002b34e556   \n",
       "4     003483ee5ae313d37590  4c63418d39f86dfab9bb.dat  c695a1e61e002b34e556   \n",
       "...                    ...                       ...                   ...   \n",
       "7431  ffcc2d0e80130bcd1f66  677582af16aeb72c01df.dat  0b9dbf13f938efd5717f   \n",
       "7432  ffd86d57b9d44f10c7d0  6f23369fb8e0d1fde118.dat  84b788fdc5e779f8a0df   \n",
       "7433  ffdc78c1ca0a8c5a689f  825df3fcf8ce0570f0be.dat  6718e7f83c824b1e436d   \n",
       "7434  ffe1a53afdbab5ebddeb  5a2bd19c41cb6da70b33.dat  84b788fdc5e779f8a0df   \n",
       "7435  ffe37357ccb2029449af  f5c909d6c7739cc6a275.dat  118c70535bd753a86615   \n",
       "\n",
       "      exc_wl  layout_a  layout_x  layout_y      pos_x  target  \n",
       "0        850         2        36       140  1313.0810       0  \n",
       "1        780         3         0       168   159.4150       0  \n",
       "2        780         1        34        29  -610.7688       0  \n",
       "3        780         2        32       139  1214.6180       0  \n",
       "4        780         0        45        85  -257.6161       0  \n",
       "...      ...       ...       ...       ...        ...     ...  \n",
       "7431     850         0         8        56 -1441.3620       0  \n",
       "7432     850         3        12         2   543.2881       0  \n",
       "7433     780         0        41       102  -383.0251       0  \n",
       "7434     850         3         3       124   259.5428       0  \n",
       "7435     850         3        19        36   769.7350       0  \n",
       "\n",
       "[7436 rows x 9 columns]"
      ]
     },
     "execution_count": 9,
     "metadata": {},
     "output_type": "execute_result"
    }
   ],
   "source": [
    "train_df"
   ]
  },
  {
   "cell_type": "code",
   "execution_count": null,
   "metadata": {},
   "outputs": [],
   "source": [
    "def create_main_table_fearue(input_df):\n",
    "    cols = ['exc_wl', 'layout_a', 'layout_x', 'layout_y', 'pos_x']\n",
    "    return input_df[cols].copy()"
   ]
  },
  {
   "cell_type": "code",
   "execution_count": null,
   "metadata": {},
   "outputs": [],
   "source": [
    "assert len(train_df) == len(create_main_table_fearue(train_df))"
   ]
  },
  {
   "cell_type": "code",
   "execution_count": null,
   "metadata": {},
   "outputs": [],
   "source": [
    "def create_fitting_feature(input_df):\n",
    "    cols = ['spectrum_id', 'params0', 'params1', 'params2', 'params3', 'params4',\n",
    "       'params5', 'params6', 'rms', 'beta']\n",
    "\n",
    "    fitting_df = read_fitting_data()\n",
    "    out_df = pd.merge(input_df['spectrum_id'], fitting_df[cols], on='spectrum_id', how='left')\n",
    "    out_df = out_df.drop(columns=['spectrum_id'])\n",
    "    return out_df"
   ]
  },
  {
   "cell_type": "code",
   "execution_count": null,
   "metadata": {},
   "outputs": [],
   "source": [
    "assert len(train_df) == len(create_fitting_feature(train_df))\n",
    "assert len(create_fitting_feature(test_df).T) == len(create_fitting_feature(train_df).T)"
   ]
  },
  {
   "cell_type": "code",
   "execution_count": null,
   "metadata": {},
   "outputs": [],
   "source": [
    "def create_tsne_feature(input_df):\n",
    "    cols = ['project_0', 'project_1']\n",
    "\n",
    "    fitting_df = pd.read_csv(datadir / 'project_tsne.csv')\n",
    "    out_df = pd.merge(input_df, fitting_df[cols], how='left')\n",
    "    out_df = out_df.drop(columns=['spectrum_id'])\n",
    "    return out_df"
   ]
  },
  {
   "cell_type": "code",
   "execution_count": null,
   "metadata": {},
   "outputs": [],
   "source": [
    "assert len(train_df) == len(create_fitting_feature(train_df))\n",
    "assert len(create_fitting_feature(test_df).T) == len(create_fitting_feature(train_df).T)"
   ]
  },
  {
   "cell_type": "code",
   "execution_count": null,
   "metadata": {},
   "outputs": [],
   "source": [
    "class FeatureTransformer:\n",
    "    def __init__(self, processors):\n",
    "        self.processors = processors\n",
    "\n",
    "    def to_feature(self, input_df):\n",
    "        out_df = pd.DataFrame()\n",
    "        for func in self.processors:\n",
    "            print('start {}'.format(func.__name__))\n",
    "            out_df = pd.concat([out_df, func(input_df)], axis=1)\n",
    "        return out_df"
   ]
  },
  {
   "cell_type": "code",
   "execution_count": null,
   "metadata": {},
   "outputs": [],
   "source": [
    "feature_transformer = FeatureTransformer(processors=[create_fitting_feature, create_main_table_fearue])"
   ]
  },
  {
   "cell_type": "code",
   "execution_count": null,
   "metadata": {},
   "outputs": [],
   "source": [
    "feat_train_df = feature_transformer.to_feature(train_df)"
   ]
  },
  {
   "cell_type": "code",
   "execution_count": null,
   "metadata": {},
   "outputs": [],
   "source": [
    "feat_train_df"
   ]
  },
  {
   "cell_type": "code",
   "execution_count": null,
   "metadata": {},
   "outputs": [],
   "source": [
    "params = {\n",
    "    'objective': 'binary',\n",
    "    'learning_rate': 0.05,\n",
    "    'reg_lambda': 1.,\n",
    "    'n_estimators': 10000,\n",
    "    'colsample_bytree': .7\n",
    "}\n",
    "\n",
    "X = feat_train_df.values\n",
    "y = train_df['target'].values"
   ]
  },
  {
   "cell_type": "code",
   "execution_count": null,
   "metadata": {},
   "outputs": [],
   "source": [
    "from sklearn.model_selection import StratifiedKFold\n",
    "\n",
    "fold = StratifiedKFold(n_splits=5, shuffle=True, random_state=71)\n",
    "cv = list(fold.split(X, y))"
   ]
  },
  {
   "cell_type": "code",
   "execution_count": null,
   "metadata": {},
   "outputs": [],
   "source": [
    "from sklearn.metrics import average_precision_score\n",
    "import lightgbm as lgbm\n",
    "\n",
    "def pr_auc(y_true, y_pred):\n",
    "    # \n",
    "    # y_true = data.get_label()\n",
    "    score = average_precision_score(y_true, y_pred)\n",
    "    return \"pr_auc\", score, True\n",
    "\n",
    "def fit_lgbm(X, y, cv, params: dict=None, verbose=10):\n",
    "\n",
    "    # パラメータがないときはからの dict で置き換える\n",
    "    if params is None:\n",
    "        params = {}\n",
    "\n",
    "    models = []\n",
    "    # training data の target と同じだけのゼロ配列を用意\n",
    "    # float にしないと悲しい事件が起こるのでそこだけ注意\n",
    "    oof_pred = np.zeros_like(y, dtype=np.float)\n",
    "\n",
    "    for i, (idx_train, idx_valid) in enumerate(cv):\n",
    "        # training data を trian/valid に分割\n",
    "        x_train, y_train = X[idx_train], y[idx_train]\n",
    "        x_valid, y_valid = X[idx_valid], y[idx_valid]\n",
    "\n",
    "        clf = lgbm.LGBMClassifier(**params)\n",
    "        clf.fit(x_train, y_train, \n",
    "                eval_set=[(x_valid, y_valid)],  \n",
    "                early_stopping_rounds=100, \n",
    "                eval_metric=pr_auc,\n",
    "                verbose=verbose)\n",
    "\n",
    "        pred_i = clf.predict_proba(x_valid)[:, 1]\n",
    "        oof_pred[idx_valid] = pred_i\n",
    "        models.append(clf)\n",
    "\n",
    "        print(f'Fold {i} PR-AUC: {average_precision_score(y_valid, pred_i):.4f}')\n",
    "\n",
    "    score = average_precision_score(y, oof_pred)\n",
    "    print('FINISHED \\ whole score: {:.4f}'.format(score))\n",
    "    return oof_pred, models"
   ]
  },
  {
   "cell_type": "code",
   "execution_count": null,
   "metadata": {},
   "outputs": [],
   "source": [
    "oof, models = fit_lgbm(X, y, cv=cv, params=params)"
   ]
  },
  {
   "cell_type": "code",
   "execution_count": null,
   "metadata": {},
   "outputs": [],
   "source": [
    "def visualize_importance(models, feat_train_df):\n",
    "    feature_importance_df = pd.DataFrame()\n",
    "    for i, model in enumerate(models):\n",
    "        _df = pd.DataFrame()\n",
    "        _df['feature_importance'] = model.feature_importances_\n",
    "        _df['column'] = feat_train_df.columns\n",
    "        _df['fold'] = i + 1\n",
    "        feature_importance_df = pd.concat([feature_importance_df, _df], axis=0, ignore_index=True)\n",
    "\n",
    "    order = feature_importance_df.groupby('column')\\\n",
    "        .sum()[['feature_importance']]\\\n",
    "        .sort_values('feature_importance', ascending=False).index[:50]\n",
    "\n",
    "    fig, ax = plt.subplots(figsize=(len(order) * .4, 7))\n",
    "    sns.boxenplot(data=feature_importance_df, x='column', y='feature_importance', order=order, ax=ax, palette='viridis')\n",
    "    ax.tick_params(axis='x', rotation=90)\n",
    "    fig.tight_layout()\n",
    "    return fig, ax"
   ]
  },
  {
   "cell_type": "code",
   "execution_count": null,
   "metadata": {},
   "outputs": [],
   "source": [
    "visualize_importance(models, feat_train_df)"
   ]
  },
  {
   "cell_type": "code",
   "execution_count": null,
   "metadata": {},
   "outputs": [],
   "source": []
  }
 ],
 "metadata": {
  "kernelspec": {
   "display_name": "Python 3",
   "language": "python",
   "name": "python3"
  },
  "language_info": {
   "codemirror_mode": {
    "name": "ipython",
    "version": 3
   },
   "file_extension": ".py",
   "mimetype": "text/x-python",
   "name": "python",
   "nbconvert_exporter": "python",
   "pygments_lexer": "ipython3",
   "version": "3.7.6"
  }
 },
 "nbformat": 4,
 "nbformat_minor": 4
}
